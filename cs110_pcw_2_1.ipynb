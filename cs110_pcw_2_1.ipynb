{
  "nbformat": 4,
  "nbformat_minor": 0,
  "metadata": {
    "kernelspec": {
      "display_name": "Python 3",
      "language": "python",
      "name": "python3"
    },
    "language_info": {
      "codemirror_mode": {
        "name": "ipython",
        "version": 3
      },
      "file_extension": ".py",
      "mimetype": "text/x-python",
      "name": "python",
      "nbconvert_exporter": "python",
      "pygments_lexer": "ipython3",
      "version": "3.6.5"
    },
    "colab": {
      "name": "cs110_pcw_2_1.ipynb",
      "provenance": [],
      "include_colab_link": true
    }
  },
  "cells": [
    {
      "cell_type": "markdown",
      "metadata": {
        "id": "view-in-github",
        "colab_type": "text"
      },
      "source": [
        "<a href=\"https://colab.research.google.com/github/mahmud-nobe/CS110_pcw_2.1/blob/master/cs110_pcw_2_1.ipynb\" target=\"_parent\"><img src=\"https://colab.research.google.com/assets/colab-badge.svg\" alt=\"Open In Colab\"/></a>"
      ]
    },
    {
      "cell_type": "markdown",
      "metadata": {
        "id": "5abNOkqm9K0M",
        "colab_type": "text"
      },
      "source": [
        "Before you turn this problem in, make sure everything runs as expected. First, **restart the kernel** (in the menubar, select Kernel$\\rightarrow$Restart) and then **run all cells** (in the menubar, select Cell$\\rightarrow$Run All).\n",
        "\n",
        "Make sure you fill in any place that says `YOUR CODE HERE` or \"YOUR ANSWER HERE\", as well as your name and collaborators below:"
      ]
    },
    {
      "cell_type": "code",
      "metadata": {
        "id": "IlhCQViA9K0O",
        "colab_type": "code",
        "colab": {}
      },
      "source": [
        "NAME = \"Md Mahmudunnobe\"\n",
        "COLLABORATORS = \"-\""
      ],
      "execution_count": 0,
      "outputs": []
    },
    {
      "cell_type": "markdown",
      "metadata": {
        "id": "NK6UBHh19K0R",
        "colab_type": "text"
      },
      "source": [
        "---"
      ]
    },
    {
      "cell_type": "markdown",
      "metadata": {
        "deletable": false,
        "editable": false,
        "nbgrader": {
          "checksum": "ff3288a2b0acfc2e2f917a549d038e5c",
          "grade": false,
          "grade_id": "cell-9e44910e5a73668d",
          "locked": true,
          "schema_version": 1,
          "solution": false
        },
        "id": "92ZWzD1u9K0R",
        "colab_type": "text"
      },
      "source": [
        "# CS110 Pre-class Work Mergesort and recurrences\n",
        "\n",
        "## Question 1.\n",
        "\n",
        "First, please read carefully [this note](https://drive.google.com/open?id=1SfrRTKWDb6szsJENgvNF7-u2B96ecaF2), which reviews the MERGE operation in Cormen et al.\n",
        "\n",
        "After reviewing the example above (Cormen et al., Figure 2.3),  you need to manually create similar illustrations as in the example above but this time for the input array:\n",
        "\n",
        "![array](https://github.com/mahmud-nobe/CS110_pcw_2.1/blob/master/array.png?raw=1)\n",
        "\n",
        "For this exercise, assume that the call to the algorithm is MERGE(A, 1, 3, 6) and draw different resulting stages of the arrays A, L, and R as the merge algorithm is executed.  You can hand-draw or use any drawing tool to produce panel illustrations, as in the example above.  Include your final drawings in the cell below. Feel free to use additional cells (Markdown or Code) for this question.\n"
      ]
    },
    {
      "cell_type": "markdown",
      "metadata": {
        "id": "EWRNBuGeSVMz",
        "colab_type": "text"
      },
      "source": [
        "We called the following algorithm:\n",
        "```\n",
        "MERGE(A,1,3,6)\n",
        "```\n",
        "where A is the array shown in above. \n",
        "\n",
        "How this algorithm will work in every step and how the array A, L and R will change in each iteration, is shown below by Illustration.\n",
        "\n",
        "**Note that, as our subarrays, L = [2,6,7] and R = [8,1,4] was not sorted initially, the final merged output array A[1,6] is also stayed non-sorted.**\n"
      ]
    },
    {
      "cell_type": "markdown",
      "metadata": {
        "deletable": false,
        "nbgrader": {
          "checksum": "b4d0caf51fb6b587f68db4e806af35d0",
          "grade": true,
          "grade_id": "cell-badbff7790708987",
          "locked": false,
          "points": 0,
          "schema_version": 1,
          "solution": true
        },
        "id": "-iW0XdvA9K0S",
        "colab_type": "text"
      },
      "source": [
        "**Part 1:** Initialization of Array L and R:\n",
        "![Merge Illustration 1](https://github.com/mahmud-nobe/CS110_pcw_2.1/raw/master/merge1.jpg)\n",
        "\n",
        "**Part 2:** Change of Array A, L,R and the variables k,i,j in each iteration of the for loop (panel(a)-(g)):\n",
        "![Merge Illustration 2](https://github.com/mahmud-nobe/CS110_pcw_2.1/raw/master/merge2.jpg)\n",
        "![Merge Illustration 3](https://github.com/mahmud-nobe/CS110_pcw_2.1/raw/master/merge3.jpg)"
      ]
    },
    {
      "cell_type": "markdown",
      "metadata": {
        "deletable": false,
        "editable": false,
        "nbgrader": {
          "checksum": "7c9608898d23ecbe07c084ca6d6da655",
          "grade": false,
          "grade_id": "cell-6dd1317d1ea8ab9f",
          "locked": true,
          "schema_version": 1,
          "solution": false
        },
        "id": "94H9ugla9K0V",
        "colab_type": "text"
      },
      "source": [
        "## Question 2.\n",
        "Now using your understanding of Part I of the merge algorithm, can you think of an efficient way to implement this part in Python? (hint: using Python list). Give your answer in prose in the cell below."
      ]
    },
    {
      "cell_type": "markdown",
      "metadata": {
        "deletable": false,
        "nbgrader": {
          "checksum": "9bf35550640c33f366c5cffad7fdf33a",
          "grade": true,
          "grade_id": "cell-4f961721620a6645",
          "locked": false,
          "points": 0,
          "schema_version": 1,
          "solution": true
        },
        "id": "wVgM1z1t9K0W",
        "colab_type": "text"
      },
      "source": [
        "When we use Python, we don't need to use a for loop to copy elements in array L and R. If the given array A is a list in python, we can directly copy the first and last elements by the following code:\n",
        "\n",
        "```\n",
        "def Merge(A,p,q,r):\n",
        "  L = A[p:q+1]\n",
        "  R = A[q+1:r+1]\n",
        "  L.append(float('INF'))\n",
        "  R.append(float('INF'))\n",
        "```\n",
        "\n"
      ]
    },
    {
      "cell_type": "code",
      "metadata": {
        "id": "O7rzJYUtVtgC",
        "colab_type": "code",
        "colab": {}
      },
      "source": [
        ""
      ],
      "execution_count": 0,
      "outputs": []
    },
    {
      "cell_type": "markdown",
      "metadata": {
        "deletable": false,
        "editable": false,
        "nbgrader": {
          "checksum": "010584ea3a4f00fba43b52bb04cd0ed2",
          "grade": false,
          "grade_id": "cell-84932c7c0c20b750",
          "locked": true,
          "schema_version": 1,
          "solution": false
        },
        "id": "svJCx8cZ9K0X",
        "colab_type": "text"
      },
      "source": [
        "## Question 3.\n",
        "\n",
        "Write a Python implementation of the merge pseudocode (both parts), your Python function must take the same four input arguments as described in the $MERGE(A,p,q,r)$. Test your code by running the example in problem 1 and 2 of this pre-class work. Feel free to come up with additional cases to check if your code is working properly. Your code should return A "
      ]
    },
    {
      "cell_type": "code",
      "metadata": {
        "deletable": false,
        "nbgrader": {
          "checksum": "43760e27d0b385c30476353b3d546a79",
          "grade": false,
          "grade_id": "cell-a67719d65c1ac9f3",
          "locked": false,
          "schema_version": 1,
          "solution": true
        },
        "id": "qYQ3xZ1C9K0X",
        "colab_type": "code",
        "colab": {}
      },
      "source": [
        "def merge(A, p, q, r):\n",
        "  # create two array and copied the elements from Array A\n",
        "  L = A[p:q+1]\n",
        "  R = A[q+1:r+1]\n",
        "  L.append(float('INF'))\n",
        "  R.append(float('INF'))\n",
        "    \n",
        "  # set i,j as the first index. Compare the i'th element of L and j'th element of R array and store the smaller\n",
        "  # one to the array A. Increase the i/j accordingly.\n",
        "  # Do this from k = p to r\n",
        "  i = 0\n",
        "  j = 0\n",
        "  for k in range(p,r+1):\n",
        "    if(L[i] <= R[j]):\n",
        "      A[k] = L[i]\n",
        "      i += 1\n",
        "    else:\n",
        "      A[k] = R[j]\n",
        "      j += 1  \n",
        "  return A\n",
        "\n",
        "  raise NotImplementedError()\n",
        "    "
      ],
      "execution_count": 0,
      "outputs": []
    },
    {
      "cell_type": "code",
      "metadata": {
        "id": "V6vkLzvsYjCn",
        "colab_type": "code",
        "outputId": "7ce42145-b3d5-4380-dd46-e8920fe9a462",
        "colab": {
          "base_uri": "https://localhost:8080/",
          "height": 33
        }
      },
      "source": [
        "A = [2,6,7,8,1,4,6,9]\n",
        "merge(A, 0, 2, 5)"
      ],
      "execution_count": 18,
      "outputs": [
        {
          "output_type": "execute_result",
          "data": {
            "text/plain": [
              "[2, 6, 7, 8, 1, 4, 6, 9]"
            ]
          },
          "metadata": {
            "tags": []
          },
          "execution_count": 18
        }
      ]
    },
    {
      "cell_type": "code",
      "metadata": {
        "id": "2K8FXh79ZHCP",
        "colab_type": "code",
        "outputId": "e5c8e99b-b4ec-44c0-b68f-53d85bcdcd5a",
        "colab": {
          "base_uri": "https://localhost:8080/",
          "height": 33
        }
      },
      "source": [
        "merge(A,0,3,7)"
      ],
      "execution_count": 0,
      "outputs": [
        {
          "output_type": "execute_result",
          "data": {
            "text/plain": [
              "[1, 2, 4, 6, 6, 7, 8, 9]"
            ]
          },
          "metadata": {
            "tags": []
          },
          "execution_count": 22
        }
      ]
    },
    {
      "cell_type": "code",
      "metadata": {
        "id": "xFruMFUGZQJg",
        "colab_type": "code",
        "outputId": "871e858a-248e-4df9-c1a0-d1ab1fbae942",
        "colab": {
          "base_uri": "https://localhost:8080/",
          "height": 33
        }
      },
      "source": [
        "A = [-2,5,78,-6.5, 0,4,7]\n",
        "merge(A,0,2,6)"
      ],
      "execution_count": 0,
      "outputs": [
        {
          "output_type": "execute_result",
          "data": {
            "text/plain": [
              "[-6.5, -2, 0, 4, 5, 7, 78]"
            ]
          },
          "metadata": {
            "tags": []
          },
          "execution_count": 24
        }
      ]
    },
    {
      "cell_type": "code",
      "metadata": {
        "deletable": false,
        "editable": false,
        "nbgrader": {
          "checksum": "699908274975a6bff4f9fb021e666ce4",
          "grade": true,
          "grade_id": "cell-e98759fe14428af0",
          "locked": true,
          "points": 0,
          "schema_version": 1,
          "solution": false
        },
        "id": "v02kZffx9K0a",
        "colab_type": "code",
        "colab": {}
      },
      "source": [
        "# Please ignore this cell. This cell is for us to implement the tests \n",
        "# to see if your code works properly. "
      ],
      "execution_count": 0,
      "outputs": []
    },
    {
      "cell_type": "markdown",
      "metadata": {
        "deletable": false,
        "editable": false,
        "nbgrader": {
          "checksum": "b2d80ef5c8845de0122c6420b853605d",
          "grade": false,
          "grade_id": "cell-49f3f61ee6d72bb9",
          "locked": true,
          "schema_version": 1,
          "solution": false
        },
        "id": "Vh0OJUEH9K0c",
        "colab_type": "text"
      },
      "source": [
        "## Question 4\n",
        "Suppose that your Python implementation of the merge algorithm is already working. Inspect the code for merge sort below:"
      ]
    },
    {
      "cell_type": "code",
      "metadata": {
        "deletable": false,
        "editable": false,
        "nbgrader": {
          "checksum": "53611abb1448334a346783091382fb12",
          "grade": false,
          "grade_id": "cell-073a21c6aac8225e",
          "locked": true,
          "schema_version": 1,
          "solution": false
        },
        "id": "Msw2UXo_9K0d",
        "colab_type": "code",
        "colab": {}
      },
      "source": [
        "def merge_sort(A,p,r):\n",
        "    if p < r:\n",
        "        q = (p+r)/2\n",
        "        merge_sort(A,p,q)\n",
        "        merge_sort(A,q+1,r)\n",
        "        merge(A,p,q,r)\n",
        "    return(A)"
      ],
      "execution_count": 0,
      "outputs": []
    },
    {
      "cell_type": "markdown",
      "metadata": {
        "deletable": false,
        "editable": false,
        "nbgrader": {
          "checksum": "b708edb1e6e70731f3ec68d1d11c2890",
          "grade": false,
          "grade_id": "cell-c19a4320995e15b2",
          "locked": true,
          "schema_version": 1,
          "solution": false
        },
        "id": "Dd3WaCW19K0g",
        "colab_type": "text"
      },
      "source": [
        "Copy and paste the code above to the cell below and fix the bug in it. "
      ]
    },
    {
      "cell_type": "code",
      "metadata": {
        "deletable": false,
        "nbgrader": {
          "checksum": "d52aee435812fe91886c6dcdfc4e3f6d",
          "grade": false,
          "grade_id": "cell-311695db35c06d65",
          "locked": false,
          "schema_version": 1,
          "solution": true
        },
        "id": "-ZQUyuPl9K0g",
        "colab_type": "code",
        "colab": {}
      },
      "source": [
        "def merge_sort(A,p,r):\n",
        "  if p < r:\n",
        "      q = int((p+r)/2)\n",
        "      merge_sort(A,p,q)\n",
        "      merge_sort(A,q+1,r)\n",
        "      merge(A,p,q,r)\n",
        "  return(A)\n",
        "\n",
        "  raise NotImplementedError()"
      ],
      "execution_count": 0,
      "outputs": []
    },
    {
      "cell_type": "code",
      "metadata": {
        "id": "TFGBYFoDZz5U",
        "colab_type": "code",
        "outputId": "22433fda-559a-48cb-c692-f867da1c583b",
        "colab": {
          "base_uri": "https://localhost:8080/",
          "height": 50
        }
      },
      "source": [
        "import random\n",
        "A = random.choices(range(100),k=10)\n",
        "print(A)\n",
        "print(merge_sort(A,0,len(A)-1))"
      ],
      "execution_count": 0,
      "outputs": [
        {
          "output_type": "stream",
          "text": [
            "[46, 46, 1, 0, 67, 52, 73, 62, 45, 34]\n",
            "[0, 1, 34, 45, 46, 46, 52, 62, 67, 73]\n"
          ],
          "name": "stdout"
        }
      ]
    },
    {
      "cell_type": "code",
      "metadata": {
        "id": "AuOWTL29dh-d",
        "colab_type": "code",
        "outputId": "c84844d8-a14e-4636-caf1-747ea4e6c677",
        "colab": {
          "base_uri": "https://localhost:8080/",
          "height": 33
        }
      },
      "source": [
        "A = [10,9,8,7,6,5,4,3,2,1]\n",
        "print(merge_sort(A,0,len(A)-1))"
      ],
      "execution_count": 0,
      "outputs": [
        {
          "output_type": "stream",
          "text": [
            "[1, 2, 3, 4, 5, 6, 7, 8, 9, 10]\n"
          ],
          "name": "stdout"
        }
      ]
    },
    {
      "cell_type": "code",
      "metadata": {
        "deletable": false,
        "editable": false,
        "nbgrader": {
          "checksum": "35fbb3c437b3ba39ede0d87d6719223b",
          "grade": true,
          "grade_id": "cell-a3a71f67390c1f82",
          "locked": true,
          "points": 0,
          "schema_version": 1,
          "solution": false
        },
        "id": "-qPsAxyO9K0j",
        "colab_type": "code",
        "colab": {}
      },
      "source": [
        "# Please ignore this cell. This cell is for us to implement the tests \n",
        "# to see if your code works properly. "
      ],
      "execution_count": 0,
      "outputs": []
    },
    {
      "cell_type": "markdown",
      "metadata": {
        "deletable": false,
        "editable": false,
        "nbgrader": {
          "checksum": "61cfba995efe3c9c37092a650047fdf3",
          "grade": false,
          "grade_id": "cell-5b296f793fefdbfe",
          "locked": true,
          "schema_version": 1,
          "solution": false
        },
        "id": "oyN9IqmF9K0n",
        "colab_type": "text"
      },
      "source": [
        "# Question 5.\n",
        "As in the previous Lesson, count the number of steps and time your merge_sort() function with the following input: `list_k = [i for i in range(100*k, 0, -1)] `, where $k= 1, 2, 3, …, 15 $. \n"
      ]
    },
    {
      "cell_type": "code",
      "metadata": {
        "id": "sWB78OuCdt00",
        "colab_type": "code",
        "outputId": "85f368d4-6987-47d5-9781-2acd8e82fd13",
        "colab": {
          "base_uri": "https://localhost:8080/",
          "height": 70
        }
      },
      "source": [
        "# First let's test if the algorithm works perfectly\n",
        "k = 1\n",
        "list_k = [i for i in range(100*k, 0, -1)]\n",
        "print(list_k)\n",
        "print(merge_sort(list_k, 0, len(list_k)-1))"
      ],
      "execution_count": 0,
      "outputs": [
        {
          "output_type": "stream",
          "text": [
            "[100, 99, 98, 97, 96, 95, 94, 93, 92, 91, 90, 89, 88, 87, 86, 85, 84, 83, 82, 81, 80, 79, 78, 77, 76, 75, 74, 73, 72, 71, 70, 69, 68, 67, 66, 65, 64, 63, 62, 61, 60, 59, 58, 57, 56, 55, 54, 53, 52, 51, 50, 49, 48, 47, 46, 45, 44, 43, 42, 41, 40, 39, 38, 37, 36, 35, 34, 33, 32, 31, 30, 29, 28, 27, 26, 25, 24, 23, 22, 21, 20, 19, 18, 17, 16, 15, 14, 13, 12, 11, 10, 9, 8, 7, 6, 5, 4, 3, 2, 1]\n",
            "[1, 2, 3, 4, 5, 6, 7, 8, 9, 10, 11, 12, 13, 14, 15, 16, 17, 18, 19, 20, 21, 22, 23, 24, 25, 26, 27, 28, 29, 30, 31, 32, 33, 34, 35, 36, 37, 38, 39, 40, 41, 42, 43, 44, 45, 46, 47, 48, 49, 50, 51, 52, 53, 54, 55, 56, 57, 58, 59, 60, 61, 62, 63, 64, 65, 66, 67, 68, 69, 70, 71, 72, 73, 74, 75, 76, 77, 78, 79, 80, 81, 82, 83, 84, 85, 86, 87, 88, 89, 90, 91, 92, 93, 94, 95, 96, 97, 98, 99, 100]\n"
          ],
          "name": "stdout"
        }
      ]
    },
    {
      "cell_type": "code",
      "metadata": {
        "id": "bcPPy8XXd6fz",
        "colab_type": "code",
        "colab": {}
      },
      "source": [
        "def counting_merge(A, p, q, r):\n",
        "  # create two array and copied the elements from Array A\n",
        "  L = A[p:q+1]\n",
        "  R = A[q+1:r+1]\n",
        "  L.append(float('INF'))\n",
        "  R.append(float('INF'))\n",
        "    \n",
        "  # set i,j as the first index. Compare the i'th element of L and j'th element of R array and store the smaller\n",
        "  # one to the array A. Increase the i/j accordingly.\n",
        "  # Do this from k = p to r\n",
        "  i = 0\n",
        "  j = 0\n",
        "  for k in range(p,r+1):\n",
        "    if(L[i] <= R[j]):\n",
        "      A[k] = L[i]\n",
        "      i += 1\n",
        "    else:\n",
        "      A[k] = R[j]\n",
        "      j += 1  \n",
        "  return A"
      ],
      "execution_count": 0,
      "outputs": []
    },
    {
      "cell_type": "code",
      "metadata": {
        "id": "qTFIBC7T9jru",
        "colab_type": "code",
        "colab": {}
      },
      "source": [
        "def counting_merge_sort(A,p,r):\n",
        "  counter = 1 # for conditional check\n",
        "  if p < r:\n",
        "      counter += 1  \n",
        "      q = int((p+r)/2)\n",
        "      counting_merge_sort(A,p,q)\n",
        "      counting_merge_sort(A,q+1,r)\n",
        "      counting_merge(A,p,q,r) \n",
        "      counter += r-p+1 # in worst case\n",
        "  return(A,counter)\n",
        "  raise NotImplementedError()"
      ],
      "execution_count": 0,
      "outputs": []
    },
    {
      "cell_type": "code",
      "metadata": {
        "id": "8o-Daexq-UMi",
        "colab_type": "code",
        "colab": {
          "base_uri": "https://localhost:8080/",
          "height": 266
        },
        "outputId": "4a862114-b6bc-449e-bea9-cfcf09f02bd2"
      },
      "source": [
        "import time\n",
        "for k in range(1,16):\n",
        "  list_k = [i for i in range(100*k, 0, -1)]\n",
        "  start = time.clock()\n",
        "  A, counter = counting_merge_sort(list_k, 0, len(list_k)-1)\n",
        "  end = time.clock()\n",
        "  print(\"K:\",k,\"Step size:\",counter,\"Time Elapsed:\", end-start)"
      ],
      "execution_count": 46,
      "outputs": [
        {
          "output_type": "stream",
          "text": [
            "K: 1 Step size: 102 Time Elapsed: 0.00039999999999906777\n",
            "K: 2 Step size: 202 Time Elapsed: 0.0006619999999983861\n",
            "K: 3 Step size: 302 Time Elapsed: 0.0011039999999979955\n",
            "K: 4 Step size: 402 Time Elapsed: 0.001916000000001361\n",
            "K: 5 Step size: 502 Time Elapsed: 0.0015290000000049986\n",
            "K: 6 Step size: 602 Time Elapsed: 0.0020619999999951233\n",
            "K: 7 Step size: 702 Time Elapsed: 0.0020689999999987663\n",
            "K: 8 Step size: 802 Time Elapsed: 0.0023550000000014393\n",
            "K: 9 Step size: 902 Time Elapsed: 0.0028980000000018435\n",
            "K: 10 Step size: 1002 Time Elapsed: 0.003175999999996293\n",
            "K: 11 Step size: 1102 Time Elapsed: 0.003340999999998928\n",
            "K: 12 Step size: 1202 Time Elapsed: 0.003983999999995547\n",
            "K: 13 Step size: 1302 Time Elapsed: 0.004356000000001359\n",
            "K: 14 Step size: 1402 Time Elapsed: 0.004512000000005401\n",
            "K: 15 Step size: 1502 Time Elapsed: 0.00538500000000397\n"
          ],
          "name": "stdout"
        }
      ]
    },
    {
      "cell_type": "code",
      "metadata": {
        "id": "E6YdVgci-aTX",
        "colab_type": "code",
        "colab": {}
      },
      "source": [
        "## Having trouble understanding how to set the stepsize for a recursive function"
      ],
      "execution_count": 0,
      "outputs": []
    },
    {
      "cell_type": "code",
      "metadata": {
        "deletable": false,
        "nbgrader": {
          "checksum": "cc3f59157e795d05422e849f3e7cc03a",
          "grade": true,
          "grade_id": "cell-8a4233ab58d3d0bb",
          "locked": false,
          "points": 0,
          "schema_version": 1,
          "solution": true
        },
        "id": "JHrscygw9K0n",
        "colab_type": "code",
        "colab": {}
      },
      "source": [
        ""
      ],
      "execution_count": 0,
      "outputs": []
    },
    {
      "cell_type": "markdown",
      "metadata": {
        "id": "eEUkFXCr9K0q",
        "colab_type": "text"
      },
      "source": [
        "# Question 6. \n",
        "Use the code you wrote for Lesson 1.2 (i.e., selection sort, bubble sort, insertion sort). Plot the following graphs:\n",
        "* **Graph 1**: 4 lines for **the number of steps** of each of the 4 sorting algorithms (i.e., selection sort, bubble sort, insertion sort, merge sort). Which algorithm performs best? Why? \n",
        "* **Graph 2**: 4 lines for **the timing** of each of the 4 sorting algorithms (i.e., selection sort, bubble sort, insertion sort, merge sort). Which algorithm performs best? Why?\n",
        "\n",
        "Use as many cells as you wish (code cells or markdown cells alike) to complete this question.\n",
        "\n",
        "You may find the section \"Simple 2-Dimensional Plots in Python\" in this [Python Help Sheet](https://drive.google.com/open?id=1paW2ByiraoDQViie0gGxApRN9DKbjHGx) helpful."
      ]
    },
    {
      "cell_type": "code",
      "metadata": {
        "deletable": false,
        "nbgrader": {
          "checksum": "0561f29260f91795736500d62066a4c7",
          "grade": true,
          "grade_id": "cell-d09efb7c7fe55e69",
          "locked": false,
          "points": 0,
          "schema_version": 1,
          "solution": true
        },
        "id": "Nblg7EWB9K0q",
        "colab_type": "code",
        "colab": {}
      },
      "source": [
        ""
      ],
      "execution_count": 0,
      "outputs": []
    },
    {
      "cell_type": "markdown",
      "metadata": {
        "colab_type": "text",
        "id": "b_MaydfPH0Mg"
      },
      "source": [
        "#### **Sorting Algorithm**"
      ]
    },
    {
      "cell_type": "code",
      "metadata": {
        "colab_type": "code",
        "id": "1OTEwa4EH0Mm",
        "colab": {}
      },
      "source": [
        "def insertionSort(A):\n",
        "  for j in range(1,len(A)):\n",
        "      key = A[j]\n",
        "      i= j-1\n",
        "      while i >= 0 and A[i]>key:\n",
        "          A[i+1] = A[i]\n",
        "          i -= 1\n",
        "      A[i+1] = key\n",
        "  return A"
      ],
      "execution_count": 0,
      "outputs": []
    },
    {
      "cell_type": "code",
      "metadata": {
        "colab_type": "code",
        "id": "2m7FRA28H0Mt",
        "colab": {}
      },
      "source": [
        "def bubbleSort(A):\n",
        "  for i in range(len(A)):\n",
        "    j = len(A)-1\n",
        "    while (j > i):\n",
        "      if (A[j] < A[j-1]):\n",
        "        temp = A[j]\n",
        "        A[j] = A[j-1]\n",
        "        A[j-1] = temp\n",
        "      j -= 1\n",
        "  return A"
      ],
      "execution_count": 0,
      "outputs": []
    },
    {
      "cell_type": "code",
      "metadata": {
        "colab_type": "code",
        "id": "EYY3WehTH0Mx",
        "colab": {}
      },
      "source": [
        "def selectionSort(A):\n",
        "  n = len(A)\n",
        "  for i in range(n-1):\n",
        "    minidx = i\n",
        "    for j in range(i+1, n):\n",
        "      if (A[j] < A[minidx]):\n",
        "        minidx = j\n",
        "    temp = A[i]\n",
        "    A[i] = A[minidx]\n",
        "    A[minidx] = temp\n",
        "  return A"
      ],
      "execution_count": 0,
      "outputs": []
    },
    {
      "cell_type": "markdown",
      "metadata": {
        "id": "pgZ0gPGl_2ZC",
        "colab_type": "text"
      },
      "source": [
        "#### **Graph 2: Counting**"
      ]
    },
    {
      "cell_type": "code",
      "metadata": {
        "id": "lJ2exdRhAR9s",
        "colab_type": "code",
        "colab": {}
      },
      "source": [
        "import matplotlib.pyplot as plt\n",
        "%matplotlib inline\n",
        "import time\n",
        "\n",
        "time_insertion = []\n",
        "time_bubble = []\n",
        "time_selection = []\n",
        "time_merge = []\n",
        "\n",
        "for k in range(1,16):\n",
        "  list_k = [i for i in range(100*k, 0, -1)]\n",
        "\n",
        "  start = time.clock()\n",
        "  insertionSort(list_k)\n",
        "  end = time.clock()\n",
        "  time_insertion.append(end-start)\n",
        "\n",
        "  start = time.clock()\n",
        "  bubbleSort(list_k)\n",
        "  end = time.clock()\n",
        "  time_bubble.append(end-start)\n",
        "\n",
        "  start = time.clock()\n",
        "  selectionSort(list_k)\n",
        "  end = time.clock()\n",
        "  time_selection.append(end-start)\n",
        "\n",
        "  start = time.clock()\n",
        "  merge_sort(list_k, 0, len(list_k)-1)\n",
        "  end = time.clock()\n",
        "  time_merge.append(end-start)\n",
        "\n",
        "\n",
        "\n",
        "  "
      ],
      "execution_count": 0,
      "outputs": []
    },
    {
      "cell_type": "code",
      "metadata": {
        "id": "QZerPda7CE1x",
        "colab_type": "code",
        "colab": {
          "base_uri": "https://localhost:8080/",
          "height": 294
        },
        "outputId": "6ff461ca-8f5a-4807-b5f9-195ab74c2f66"
      },
      "source": [
        "k = range(1,16)\n",
        "plt.plot(k,time_insertion,'b')\n",
        "plt.plot(k,time_bubble,'g')\n",
        "plt.plot(k,time_selection,'r')\n",
        "plt.plot(k,time_merge,'y')\n",
        "plt.xlabel('k')\n",
        "plt.ylabel('Time elapsed(s)')\n",
        "plt.legend(['Insertion','Bubble','Selection','Merge'])\n",
        "plt.title(\"Time of diffferent sorting algorithm\")\n",
        "plt.show()"
      ],
      "execution_count": 34,
      "outputs": [
        {
          "output_type": "display_data",
          "data": {
            "image/png": "[encoded data removed]",
            "text/plain": [
              "<Figure size 432x288 with 1 Axes>"
            ]
          },
          "metadata": {
            "tags": []
          }
        }
      ]
    },
    {
      "cell_type": "code",
      "metadata": {
        "id": "NVLKAyV-CPhS",
        "colab_type": "code",
        "colab": {}
      },
      "source": [
        ""
      ],
      "execution_count": 0,
      "outputs": []
    },
    {
      "cell_type": "markdown",
      "metadata": {
        "id": "YVod9e___623",
        "colab_type": "text"
      },
      "source": [
        "#### **Sorting Algorithm with step**"
      ]
    },
    {
      "cell_type": "code",
      "metadata": {
        "id": "H5P4SqYlABxy",
        "colab_type": "code",
        "colab": {}
      },
      "source": [
        "def insertionSort(A):\n",
        "  counter = 1\n",
        "  for j in range(1,len(A)):\n",
        "      key = A[j]\n",
        "      i= j-1\n",
        "      while i >= 0 and A[i]>key:\n",
        "          A[i+1] = A[i]\n",
        "          i -= 1\n",
        "      A[i+1] = key\n",
        "  return A"
      ],
      "execution_count": 0,
      "outputs": []
    },
    {
      "cell_type": "code",
      "metadata": {
        "id": "FWjgJ9_3AFn2",
        "colab_type": "code",
        "colab": {}
      },
      "source": [
        "def bubbleSort(A):\n",
        "  counter = 2 \n",
        "  for i in range(len(A)):\n",
        "    counter += 2\n",
        "    j = len(A)-1\n",
        "    while (j > i):\n",
        "      counter += 3 # one for \n",
        "      if (A[j] < A[j-1]):\n",
        "        temp = A[j]\n",
        "        A[j] = A[j-1]\n",
        "        A[j-1] = temp\n",
        "        counter += 3\n",
        "      j -= 1\n",
        "  return A"
      ],
      "execution_count": 0,
      "outputs": []
    },
    {
      "cell_type": "code",
      "metadata": {
        "id": "8f40SlGxAKgD",
        "colab_type": "code",
        "colab": {}
      },
      "source": [
        "def selectionSort(A):\n",
        "  n = len(A)\n",
        "  for i in range(n-1):\n",
        "    minidx = i\n",
        "    for j in range(i+1, n):\n",
        "      if (A[j] < A[minidx]):\n",
        "        minidx = j\n",
        "    temp = A[i]\n",
        "    A[i] = A[minidx]\n",
        "    A[minidx] = temp\n",
        "  return A"
      ],
      "execution_count": 0,
      "outputs": []
    }
  ]
}